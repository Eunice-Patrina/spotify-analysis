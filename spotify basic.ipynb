{
 "cells": [
  {
   "cell_type": "markdown",
   "metadata": {
    "application/vnd.databricks.v1+cell": {
     "cellMetadata": {
      "byteLimit": 2048000,
      "rowLimit": 10000
     },
     "inputWidgets": {},
     "nuid": "d4db11f9-fc0a-48f5-9e64-21cfefc483fd",
     "showTitle": false,
     "title": ""
    }
   },
   "source": [
    "## Initilize Spark"
   ]
  },
  {
   "cell_type": "code",
   "execution_count": 0,
   "metadata": {
    "application/vnd.databricks.v1+cell": {
     "cellMetadata": {
      "byteLimit": 2048000,
      "rowLimit": 10000
     },
     "inputWidgets": {},
     "nuid": "46e62b99-caf0-4e91-91b9-1dd59f5a5aac",
     "showTitle": false,
     "title": ""
    }
   },
   "outputs": [],
   "source": [
    "import pyspark"
   ]
  },
  {
   "cell_type": "markdown",
   "metadata": {
    "application/vnd.databricks.v1+cell": {
     "cellMetadata": {
      "byteLimit": 2048000,
      "rowLimit": 10000
     },
     "inputWidgets": {},
     "nuid": "ea62197c-7837-401b-ae2c-0f9644668b7b",
     "showTitle": false,
     "title": ""
    }
   },
   "source": [
    "## Load the data"
   ]
  },
  {
   "cell_type": "code",
   "execution_count": 0,
   "metadata": {
    "application/vnd.databricks.v1+cell": {
     "cellMetadata": {
      "byteLimit": 2048000,
      "rowLimit": 10000
     },
     "inputWidgets": {},
     "nuid": "2269b43b-ee76-4d5f-820f-f00563b74e64",
     "showTitle": false,
     "title": ""
    }
   },
   "outputs": [],
   "source": [
    "df = sqlContext.sql(\"SELECT * FROM  spotify_csv\")"
   ]
  },
  {
   "cell_type": "code",
   "execution_count": 0,
   "metadata": {
    "application/vnd.databricks.v1+cell": {
     "cellMetadata": {
      "byteLimit": 2048000,
      "rowLimit": 10000
     },
     "inputWidgets": {},
     "nuid": "50266a0c-b2ba-4f51-a41e-60c6c36f3718",
     "showTitle": false,
     "title": ""
    }
   },
   "outputs": [
    {
     "output_type": "stream",
     "name": "stdout",
     "output_type": "stream",
     "text": [
      "Out[34]: 32833"
     ]
    }
   ],
   "source": [
    "df.count()"
   ]
  },
  {
   "cell_type": "code",
   "execution_count": 0,
   "metadata": {
    "application/vnd.databricks.v1+cell": {
     "cellMetadata": {
      "byteLimit": 2048000,
      "rowLimit": 10000
     },
     "inputWidgets": {},
     "nuid": "e29e07fa-1530-4f2e-af39-31d27bc6576c",
     "showTitle": false,
     "title": ""
    }
   },
   "outputs": [],
   "source": [
    "from pyspark.sql.types import StringType"
   ]
  },
  {
   "cell_type": "code",
   "execution_count": 0,
   "metadata": {
    "application/vnd.databricks.v1+cell": {
     "cellMetadata": {
      "byteLimit": 2048000,
      "rowLimit": 10000
     },
     "inputWidgets": {},
     "nuid": "8166f81b-6b97-413a-b0db-c5bec302ffde",
     "showTitle": false,
     "title": ""
    }
   },
   "outputs": [
    {
     "output_type": "stream",
     "name": "stdout",
     "output_type": "stream",
     "text": [
      "Out[36]: pyspark.sql.types.StringType"
     ]
    }
   ],
   "source": [
    "type(df.schema[0].dataType)"
   ]
  },
  {
   "cell_type": "code",
   "execution_count": 0,
   "metadata": {
    "application/vnd.databricks.v1+cell": {
     "cellMetadata": {
      "byteLimit": 2048000,
      "rowLimit": 10000
     },
     "inputWidgets": {},
     "nuid": "3d8c4b20-7927-478b-8c47-6cea49a70038",
     "showTitle": false,
     "title": ""
    }
   },
   "outputs": [],
   "source": [
    "str_cols = []\n",
    "nstr_cols = []\n",
    "for i in df.schema:\n",
    "    if(isinstance(i.dataType, StringType)):\n",
    "        str_cols.append(i.name)\n",
    "    else:\n",
    "        nstr_cols.append(i.name)"
   ]
  },
  {
   "cell_type": "code",
   "execution_count": 0,
   "metadata": {
    "application/vnd.databricks.v1+cell": {
     "cellMetadata": {
      "byteLimit": 2048000,
      "rowLimit": 10000
     },
     "inputWidgets": {},
     "nuid": "61b98b16-b43d-4827-b72e-3659296053e5",
     "showTitle": false,
     "title": ""
    }
   },
   "outputs": [
    {
     "output_type": "stream",
     "name": "stdout",
     "output_type": "stream",
     "text": [
      "Out[38]: ['track_id',\n 'track_name',\n 'track_artist',\n 'track_album_id',\n 'track_album_name',\n 'playlist_name',\n 'playlist_id',\n 'playlist_genre',\n 'playlist_subgenre']"
     ]
    }
   ],
   "source": [
    "str_cols"
   ]
  },
  {
   "cell_type": "code",
   "execution_count": 0,
   "metadata": {
    "application/vnd.databricks.v1+cell": {
     "cellMetadata": {
      "byteLimit": 2048000,
      "rowLimit": 10000
     },
     "inputWidgets": {},
     "nuid": "d8ecc6f6-5640-427b-a32b-cf3758ccdc79",
     "showTitle": false,
     "title": ""
    }
   },
   "outputs": [],
   "source": [
    "str_cols = ['track_id',\n",
    " 'track_artist',\n",
    " 'track_album_id',\n",
    " 'playlist_id',\n",
    " 'playlist_genre',\n",
    " 'playlist_subgenre']"
   ]
  },
  {
   "cell_type": "code",
   "execution_count": 0,
   "metadata": {
    "application/vnd.databricks.v1+cell": {
     "cellMetadata": {
      "byteLimit": 2048000,
      "rowLimit": 10000
     },
     "inputWidgets": {},
     "nuid": "7b5c42b0-abb5-4bec-a52c-95dcd3d5377b",
     "showTitle": false,
     "title": ""
    }
   },
   "outputs": [],
   "source": [
    "from pyspark.ml.linalg import Vectors\n",
    "from pyspark.ml.feature import VectorAssembler"
   ]
  },
  {
   "cell_type": "markdown",
   "metadata": {
    "application/vnd.databricks.v1+cell": {
     "cellMetadata": {
      "byteLimit": 2048000,
      "rowLimit": 10000
     },
     "inputWidgets": {},
     "nuid": "7785ba06-11c3-4ed8-ab14-69b46c26c2c0",
     "showTitle": false,
     "title": ""
    }
   },
   "source": [
    "## Create Feature Vector"
   ]
  },
  {
   "cell_type": "code",
   "execution_count": 0,
   "metadata": {
    "application/vnd.databricks.v1+cell": {
     "cellMetadata": {
      "byteLimit": 2048000,
      "rowLimit": 10000
     },
     "inputWidgets": {},
     "nuid": "26856e10-2229-4dd5-9a6a-d66cb727ffe4",
     "showTitle": false,
     "title": ""
    }
   },
   "outputs": [],
   "source": [
    "nstr_cols.remove('track_album_release_date')\n",
    "assembler = VectorAssembler(inputCols=nstr_cols, outputCol=\"features\")\n",
    "final_data  = assembler.transform(df)"
   ]
  },
  {
   "cell_type": "markdown",
   "metadata": {
    "application/vnd.databricks.v1+cell": {
     "cellMetadata": {
      "byteLimit": 2048000,
      "rowLimit": 10000
     },
     "inputWidgets": {},
     "nuid": "edd543c0-a4e1-4cc1-bad5-6301cbd51bb0",
     "showTitle": false,
     "title": ""
    }
   },
   "source": [
    "## StandardScaler"
   ]
  },
  {
   "cell_type": "code",
   "execution_count": 0,
   "metadata": {
    "application/vnd.databricks.v1+cell": {
     "cellMetadata": {
      "byteLimit": 2048000,
      "rowLimit": 10000
     },
     "inputWidgets": {},
     "nuid": "32e350d6-0daf-48cc-81ee-f35195bb58a0",
     "showTitle": false,
     "title": ""
    }
   },
   "outputs": [],
   "source": [
    "from pyspark.ml.feature import StandardScaler"
   ]
  },
  {
   "cell_type": "code",
   "execution_count": 0,
   "metadata": {
    "application/vnd.databricks.v1+cell": {
     "cellMetadata": {
      "byteLimit": 2048000,
      "rowLimit": 10000
     },
     "inputWidgets": {},
     "nuid": "dcc74c68-db66-4d20-accd-131e4fcc0ea0",
     "showTitle": false,
     "title": ""
    }
   },
   "outputs": [],
   "source": [
    "scaler = StandardScaler(inputCol=\"features\", outputCol=\"scaledFeatures\")"
   ]
  },
  {
   "cell_type": "code",
   "execution_count": 0,
   "metadata": {
    "application/vnd.databricks.v1+cell": {
     "cellMetadata": {
      "byteLimit": 2048000,
      "rowLimit": 10000
     },
     "inputWidgets": {},
     "nuid": "20609010-fa2d-4014-8b32-61bfbb92f16e",
     "showTitle": false,
     "title": ""
    }
   },
   "outputs": [],
   "source": [
    "scaler_model = scaler.fit(final_data)"
   ]
  },
  {
   "cell_type": "code",
   "execution_count": 0,
   "metadata": {
    "application/vnd.databricks.v1+cell": {
     "cellMetadata": {
      "byteLimit": 2048000,
      "rowLimit": 10000
     },
     "inputWidgets": {},
     "nuid": "a5f735bc-3fa1-44ec-b0cc-31ffddf07170",
     "showTitle": false,
     "title": ""
    }
   },
   "outputs": [],
   "source": [
    "final_data = scaler_model.transform(final_data)"
   ]
  },
  {
   "cell_type": "markdown",
   "metadata": {
    "application/vnd.databricks.v1+cell": {
     "cellMetadata": {
      "byteLimit": 2048000,
      "rowLimit": 10000
     },
     "inputWidgets": {},
     "nuid": "72b14979-d579-4f0e-a3e6-5283be97a9fe",
     "showTitle": false,
     "title": ""
    }
   },
   "source": [
    "# K means"
   ]
  },
  {
   "cell_type": "code",
   "execution_count": 0,
   "metadata": {
    "application/vnd.databricks.v1+cell": {
     "cellMetadata": {
      "byteLimit": 2048000,
      "rowLimit": 10000
     },
     "inputWidgets": {},
     "nuid": "b4ad5344-0cc7-4784-97ac-4c24411ac00f",
     "showTitle": false,
     "title": ""
    }
   },
   "outputs": [],
   "source": [
    "from pyspark.ml.clustering import KMeans"
   ]
  },
  {
   "cell_type": "code",
   "execution_count": 0,
   "metadata": {
    "application/vnd.databricks.v1+cell": {
     "cellMetadata": {
      "byteLimit": 2048000,
      "rowLimit": 10000
     },
     "inputWidgets": {},
     "nuid": "e254bd59-326c-41eb-b73a-945fabc18480",
     "showTitle": false,
     "title": ""
    }
   },
   "outputs": [],
   "source": [
    "from pyspark.ml.evaluation import ClusteringEvaluator"
   ]
  },
  {
   "cell_type": "code",
   "execution_count": 0,
   "metadata": {
    "application/vnd.databricks.v1+cell": {
     "cellMetadata": {
      "byteLimit": 2048000,
      "rowLimit": 10000
     },
     "inputWidgets": {},
     "nuid": "3c262e1b-e0a1-4133-a2a7-6b1bfbe429e2",
     "showTitle": false,
     "title": ""
    }
   },
   "outputs": [],
   "source": [
    "\n",
    "evaluator = ClusteringEvaluator()\n"
   ]
  },
  {
   "cell_type": "code",
   "execution_count": 0,
   "metadata": {
    "application/vnd.databricks.v1+cell": {
     "cellMetadata": {
      "byteLimit": 2048000,
      "rowLimit": 10000
     },
     "inputWidgets": {},
     "nuid": "4e19415d-35fd-435c-ad51-27738522a5bd",
     "showTitle": false,
     "title": ""
    }
   },
   "outputs": [],
   "source": [
    "silhouettes = []\n",
    "for i in range(2, 10):\n",
    "    kmeans = KMeans(featuresCol='features', k=i)\n",
    "    model = kmeans.fit(final_data)\n",
    "    prediction = model.transform(final_data)\n",
    "    silhouette = evaluator.evaluate(prediction)\n",
    "    silhouettes.append(silhouette)"
   ]
  },
  {
   "cell_type": "code",
   "execution_count": 0,
   "metadata": {
    "application/vnd.databricks.v1+cell": {
     "cellMetadata": {
      "byteLimit": 2048000,
      "rowLimit": 10000
     },
     "inputWidgets": {},
     "nuid": "bdcb6491-d8cc-4a2c-90ae-4e328babac55",
     "showTitle": false,
     "title": ""
    }
   },
   "outputs": [
    {
     "output_type": "display_data",
     "data": {
      "image/png": "[encoded data removed]"
     },
     "metadata": {
      "application/vnd.databricks.v1+output": {
       "addedWidgets": {},
       "arguments": {},
       "data": "data:image/png;base64,iVBORw0KGgoAAAANSUhEUgAAAYgAAAEWCAYAAAB8LwAVAAAAOXRFWHRTb2Z0d2FyZQBNYXRwbG90bGliIHZlcnNpb24zLjUuMSwgaHR0cHM6Ly9tYXRwbG90bGliLm9yZy/YYfK9AAAACXBIWXMAAAsTAAALEwEAmpwYAAAtAElEQVR4nO3deXSdV33v//dHs2zJ0rEtJ7ZlHzuOM5DJsUQoCaRhCA1Dk9veEhyGX2lvCbTAj0IvXQwtN6SXtX6995ahtwEaoAwF4hsCob4QSCgZmJLUcuIMduJgO/E8yI4lj7I1fH9/nEfKsXwknTg+PoM+r7XO0nn2M5zvUeLnq733s/dWRGBmZjZaVbEDMDOz0uQEYWZmOTlBmJlZTk4QZmaWkxOEmZnl5ARhZmY5OUFY2ZP0Dkn3ZG2HpLOT99+Q9N+LF51Z+XKCsLIg6VWSfiOpV9Lzkn4t6eUAEfGdiHhDsWPMJul+SX82qmwkcZ3kNa+TtFrSfkl7JN0raeFLj9Yst5piB2A2EUnTgB8Bfw7cDtQBrwaOFjOu0ylJLN8C/hC4F2gC3gAMnsLPEKCIGDpV17Ty5hqElYNzACLitogYjIgjEXFPRDwOIOndkn41zvkpST+WdEDSw5IWDe+QdLmklUnNZKWky7P2PSfp9VnbN0n6dtb27yS1mh5Jj0m6Kin/DJkE9k+SDkr6J0m/SE57LCl7W3LsW5JaQU9yrYvH+A5LgGcj4ueRcSAivh8Rm5PrVEv6hKQNyfdcJWleHt/xfkmfkfRr4DBwlqTzJP0sqamtk3T9uP91rHJFhF9+lfQLmAbsBb4JvBFIjdr/buBXWdsBnJ28/0Zy7mVkaszfAZYn+6YD+4B3JftuSLZnJPufA16fdd2bgG8n7+cm130TmT+0rk6225L99wN/NirOkbiS7UuB3cArgGrgj5PPrM/xOzgL6AM+B7wGaBq1/6PAE8C5gIBLgBl5fMf7gc3ABcn+FmAL8CfJ9qXAHuBlxf7/wK/T/3INwkpeROwHXkXmBvsVoFvSCkln5HmJOyPiPyJigEyCWJKUvxn4bUT8a0QMRMRtwNPA7+dxzXcCd0XEXRExFBE/A7rIJIx83Qj8c0Q8HJma0TfJNJv9zugDI2IjcBWZxHQ7sCfpgG9KDvkz4G8iYl1kPBYRe/P8jt+IiDXJ7+ca4LmI+Hpy/KPA94G3vojvZRXCCcLKQkQ8FRHvjoh24EJgDvD5PE/fmfX+MJn2e5JrbBp17CYyN+GJpIG3Jk1DPZJ6yCSx2XnGNHyNvxp1jXlJXCeIiIci4vqIaCPThHUl8Mlk9zxgQ47T8vmOW0bF9IpRMb0DOPNFfC+rEO6ktrITEU9L+gbw3pd4qe1kbojZ5gM/Td4fAqZk7cu+SW4B/jUi3jNWmHl8/hbgMxHxmTyOPf7iESsl/YBMshy+1iLgyVGHTvQdR8e6BXggIq5+sTFZ5XENwkpe0mn6V5Lak+15ZNrSH3qJl74LOEfS2yXVJB3HLyPzxBTAamCZpFpJncAfZZ37beD3Jf1e0kHcIOmq4RiBXWT6DbKNLvsK8D5Jr1DGVElvltQ8OtDkMd/3SJqVbJ8HXMsLv4OvAn8naXFyrYslzcjjO472o+T4dyXfu1bSyyWdP+5v0iqSE4SVgwNkOnIflnSIzE3xSeCvXspFkzb6tyTX2Qv8NfCWiNiTHPK3ZP4q3wd8Gvhu1rlbgOuATwDdZP7y/igv/Jv6AvBHkvZJ+sek7Cbgm0nTzfUR0QW8B/in5DPWk+lwz6WHTEJ4QtJBMjWAO4H/kez/LJm+iXuA/cDXgMY8vuPo38kBMo/PLiNT+9gJ/D1QP0ZcVsEU4QWDzMzsRK5BmJlZTk4QZmaWkxOEmZnl5ARhZmY5Vcw4iJkzZ8aCBQuKHYaZWVlZtWrVnmTw5QkqJkEsWLCArq6uYodhZlZWJI0eaT/CTUxmZpZTQROEpGuS6YLXS/pYjv2fS6Y6Xi3pmWTel+z90yRtlfRPhYzTzMxOVLAmJknVwC1kpkHeCqyUtCIi1g4fExEfzjr+g2SmFs72d8AvMDOz066QNYjLgPURsTEijgHLyUxNMJYbgNuGNyR1AGeQmTrAzMxOs0ImiLkcP43wVsaYRllSGlhIZilFJFUB/wD81/E+QNKNkrokdXV3d5+SoM3MLKNUOqmXAXdExPD6un9BZjGWreOdFBG3RkRnRHS2teV8SsvMzE5SIR9z3UZmEZNh7UlZLsuA92dtvxJ4taS/ILO4S52kgxFxQke3mZkVRiETxEpgsaSFZBLDMuDtow9K5rVPAQ8Ol0XEO7L2vxvoLFRy6Dl8jG/+ZhOvPW8WF7W3FOIjzMzKUsESREQMSPoAcDeZBdn/JSLWSLoZ6IqIFcmhy8gsIl+UecerqsTnf/4MQThBmJllKehI6oi4i8yKVtllnxq1fdME1/gG8I1THNqIaQ21nHtGM6s27SvUR5iZlaVS6aQuqo50ikc39zA45MWTzMyGOUGQSRAHjw7wzK4DxQ7FzKxkOEEAnenpAHS5mcnMbIQTBDBveiMzm+p5xAnCzGyEEwQgic50iq5Nzxc7FDOzkuEEkehIp9jy/BF27+8rdihmZiXBCSKxNJ0C4JHNbmYyMwMniBEXzp1GXU0VXc85QZiZgRPEiPqaai6e28Iq1yDMzAAniON0LEjx5LZe+voHJz7YzKzCOUFk6Zifon8weGJbb7FDMTMrOieILMMd1Z6XyczMCeI4M5vqWThzqjuqzcxwgjjB0vkpHtm8jyLNPm5mVjKcIEbpXJDi+UPHeHbPoWKHYmZWVE4Qo3S4H8LMDHCCOMHZbU1Ma6jxiGozm/ScIEapqhJL0yl3VJvZpFfQBCHpGknrJK2X9LEc+z8naXXyekZST1KelvRIUr5G0vsKGedoHfNT/Hb3QXoP95/OjzUzKykFW5NaUjVwC3A1sBVYKWlFRKwdPiYiPpx1/AeBS5PNHcArI+KopCbgyeTc7YWKN1vHgmTivi37eM25s07HR5qZlZxC1iAuA9ZHxMaIOAYsB64b5/gbgNsAIuJYRBxNyusLHOcJLmlvpbpKrHIzk5lNYoW88c4FtmRtb03KTiApDSwE7s0qmyfp8eQaf5+r9iDpRkldkrq6u7tPWeBT62s4f3azn2Qys0mtVDqplwF3RMTILHkRsSUiLgbOBv5Y0hmjT4qIWyOiMyI629raTmlAnenprN7SQ//g0Cm9rplZuShkgtgGzMvabk/KcllG0rw0WlJzeBJ49SmNbgJL0ymO9A/y9I4Dp/NjzcxKRiETxEpgsaSFkurIJIEVow+SdB6QAh7MKmuX1Ji8TwGvAtYVMNYTdI4MmPM61WY2ORUsQUTEAPAB4G7gKeD2iFgj6WZJ12YdugxYHsdPfnQ+8LCkx4AHgP8VEU8UKtZc5rQ2MrulgS73Q5jZJFWwx1wBIuIu4K5RZZ8atX1TjvN+BlxcyNjysTSd4hEnCDObpEqlk7okdaZTbO/tY3vPkWKHYmZ22jlBjMMT95nZZOYEMY7zZ0+jsbbaCcLMJiUniHHUVldxybwWJwgzm5ScICbQkU6xdsd+Dh8bKHYoZmanlRPEBDrT0xkcClZv6Sl2KGZmp5UTxAQund8K4MddzWzScYKYQOuUOs6e1eR+CDObdJwg8tCZTrFq0z6GhmLig83MKoQTRB6WplPs7xtgQ/fBYodiZnbaOEHkYXjiPs/LZGaTiRNEHhbOnEpqSq37IcxsUnGCyIMkOjxxn5lNMk4QeepIT2fjnkPsPXh04oPNzCqAE0Sehifue2RzT3EDMTM7TZwg8nRxewu11aLLK8yZ2SThBJGnhtpqLpjT4n4IM5s0nCBehI50ise29nJsYKjYoZiZFVxBE4SkayStk7Re0sdy7P+cpNXJ6xlJPUn5EkkPSloj6XFJbytknPnqTKc4NjDEk9t7ix2KmVnBFWxNaknVwC3A1cBWYKWkFRGxdviYiPhw1vEfBC5NNg8D/09E/FbSHGCVpLsjoqdQ8eZjpKN60z6Wzk8VMxQzs4IrZA3iMmB9RGyMiGPAcuC6cY6/AbgNICKeiYjfJu+3A7uBtgLGmpdZ0xqYN72RrufcD2Fmla+QCWIusCVre2tSdgJJaWAhcG+OfZcBdcCGAsT4onXMT7Fq8z4iPHGfmVW2UumkXgbcERGD2YWSZgP/CvxJRJzQMyzpRkldkrq6u7tPS6Ad6RTdB46ydd+R0/J5ZmbFUsgEsQ2Yl7XdnpTlsoykeWmYpGnAj4FPRsRDuU6KiFsjojMiOtvaTk8LVEd6OoDHQ5hZxStkglgJLJa0UFIdmSSwYvRBks4DUsCDWWV1wJ3AtyLijgLG+KKde2YzTfU1nrjPzCpewRJERAwAHwDuBp4Cbo+INZJulnRt1qHLgOVxfKP+9cCVwLuzHoNdUqhYX4zqKnHp/FZWbeopdihmZgVVsMdcASLiLuCuUWWfGrV9U47zvg18u5CxvRRL56f43/f+lgN9/TQ31BY7HDOzgiiVTuqy0pFOMRSwektPsUMxMysYJ4iTcOn8ViQ8HsLMKpoTxElobqjl3DOaeWSzE4SZVS4niJPUuSDFo5t7GBzygDkzq0xOECepI53i4NEB1u08UOxQzMwKIu8EIWlKIQMpNx3zMwPmVrmZycwq1IQJQtLlktYCTyfbl0j6YsEjK3HzpjfS1lzPquc8otrMKlM+NYjPAb8H7AWIiMfIDGKb1CSNTNxnZlaJ8mpiiogto4oGcx44yXQuSLHl+SPs3t9X7FDMzE65fBLEFkmXAyGpVtJ/JTN1xqS3NFlAyPMymVklyidBvA94P5m1HLYBS5LtSe+COdOoq6lygjCzijTuXEzJsqFfiIh3nKZ4ykp9TTWXtLfQ5QRhZhVo3BpEsoBPOpl+23JYmk6xZnsvff3uljGzypJPE9NG4NeS/lbSR4ZfhQ6sXHSmp9M/GDyxrbfYoZiZnVL5JIgNwI+SY5uzXgYsnd8KeOI+M6s8E64HERGfBpDUlGwfLHRQ5WRGUz0LZ051R7WZVZx8RlJfKOlRYA2wRtIqSRcUPrTy0ZFO8cjmfRy/KJ6ZWXnLp4npVuAjEZGOiDTwV8BXChtWeelIp3j+0DGe3XOo2KGYmZ0y+SSIqRFx3/BGRNwPTC1YRGWo0wPmzKwC5fUUU/IE04Lk9TdknmyakKRrJK2TtF7Sx3Ls/5yk1cnrGUk9Wft+KqlH0o/y/jZFsqitiWkNNU4QZlZRJuykBv4U+DTwAyCAXyZl40oG2d0CXA1sBVZKWhERa4ePiYgPZx3/QeDSrEv8T2AK8N48YiyqqiqxNJ1ygjCzipLPU0z7gP/3JK59GbA+IjYCSFoOXAesHeP4G4D/lvW5P5d01Ul8blF0plPcv66bnsPHaJ3icYVmVv7yeYrpZ5Jas7ZTku7O49pzgexZYLcmZbk+Iw0sBO7N47rZ590oqUtSV3d394s59ZQbnrjv0c09RY3DzOxUyacPYmZE9AxvJDWKWac4jmXAHcnUHnmLiFsjojMiOtva2k5xSC/OknmtVFfJzUxmVjHySRBDkuYPbyR/7efzwP82YF7WdntSlssy4LY8rlmyptTV8LLZ0+ja5BXmzKwy5NNJ/UngV5IeAAS8Grgxj/NWAoslLSSTGJYBbx99kKTzgBTwYL5Bl6qOdIr/s3IL/YND1Fbnvdy3mVlJmvAuFhE/BZYC/wdYDnRExIR9EBExAHwAuJvMAkO3R8QaSTdLujbr0GXA8hg1DFnSL4HvAa+TtFXS7+X7pYqlI53iSP8gT+84UOxQzMxesglrEJKuAFZHxI8kvRP4hKQvRMSmic6NiLuAu0aVfWrU9k1jnPvqia5fajqSjuquTc9zUXtLkaMxM3tp8mkH+RJwWNIlwEfIzO76rYJGVabmtDYyu6XBHdVmVhHySRADSfPPdcAtEXELnu57TB0eMGdmFSKfBHFA0seBdwI/llQF1BY2rPLVkU6xo7eP7T1Hih2KmdlLkk+CeBtwFPgvEbGTzOOq/7OgUZWxzvR0wBP3mVn5y+cppp0R8dmI+GWyvTki3AcxhvNmN9NYW+0EYWZlzw/rn2K11VVcMq/FCcLMyp4TRAF0pqezdsd+Dh0dKHYoZmYnLa8EIalR0rmFDqZSdKRTDA4Fj23tKXYoZmYnLZ/ZXH8fWA38NNleImlFgeMqa0vnZwbMPeJmJjMrY/nUIG4is7ZDD0BErCYzNbeNoWVKLYtnNdHlBGFmZSyfBNEfEb2jyvKZzXVS60ineGTTPoaG/Ksys/KUT4JYI+ntQLWkxZL+N/CbAsdV9jrSKfb3DbC++2CxQzEzOyn5JIgPAheQGSz3XaAX+FAhg6oEwxP3+XFXMytX+SSIN0fEJyPi5cnrb4BrJzxrkls4cyrTp9Y5QZhZ2conQXw8zzLLIoml8z1xn5mVrzHXg5D0RuBNwFxJ/5i1axrgEWB56Ein+PendrH34FFmNNUXOxwzsxdlvBrEdqAL6ANWZb1WACW/ulsp6FzgfggzK19j1iAi4jHgMUlnRMQ3s/dJ+hDwhUIHV+4umttCbbVYtXkfb7jgzGKHY2b2ouTTB7EsR9m787m4pGskrZO0XtLHcuz/nKTVyesZST1Z+/5Y0m+T1x/n83mlpqG2mgvntnhEtZmVpfH6IG4A3g4sHDW1RjPw/EQXllQN3AJcDWwFVkpaERFrh4+JiA9nHf9B4NLk/XTgvwGdZAblrUrOLbs7bcf8FN96aBNHBwapr6kudjhmZnkbM0GQGQy3A5gJ/ENW+QHg8TyufRmwPiI2AkhaTmbZ0rVjHH8DmaQAmT6On0XE88m5PwOuAW7L43NLSkc6xVd/9Sxrtu8fmaPJzKwcjNnEFBGbIuL+iHgl8BxQGxEPAE8BjXlcey6wJWt7a1J2AklpMvM73ftizpV0o6QuSV3d3d15hHT6jQyYe67sKj9mNsnlM5vre4A7gH9OitqBH57iOJYBd0TE4Is5KSJujYjOiOhsa2s7xSGdGrOmNTBveqOfZDKzspNPJ/X7gSuA/QAR8VtgVh7nbQPmZW23J2W5LOP45qMXc27J60xPZ9XmfUR44j4zKx/5JIijEXFseENSDfnN5roSWCxpoaQ6MknghHUkJJ0HpIAHs4rvBt4gKSUpBbwhKStLS9Mpug8cZcvzR4odiplZ3vJJEA9I+gTQKOlq4HvA/53opIgYAD5A5sb+FHB7RKyRdLOk7LmclgHLI+vP66Rz+u/IJJmVwM3DHdblqCPpnF61uWy/gplNQpqo2UNSFfBfyPwVLzI3/K9GibWXdHZ2RldXV7HDyGlwKLjk0/dw3ZI5fOYPLip2OGZmIyStiojOXPvGe8wVgIgYAr6SvOwkVFeJS+e3uqPazMpKPk8xPStp4+jX6QiuknSkU6zbdYADff3FDsXMLC8T1iDIjGYe1gC8FZhemHAqV0c6RQQ8urmHK88pzUdyzcyyTViDiIi9Wa9tEfF54M2FD62yLJnXSpU8s6uZlY8JaxCSlmZtVpGpUeRT87AszQ21nHvmNB7Z7ARhZuUhnxt99jxMA2Sm3bi+INFUuI50Kz98dDuDQ0F1lYodjpnZuPJ5iuk1pyOQyaAzPZ1vP7SZdTsP8LI504odjpnZuPJ5iqlF0meHJ8WT9A+SWk5HcJVmZOK+TR4wZ2alL5+R1P9CZorv65PXfuDrhQyqUrWnGmlrrndHtZmVhXz6IBZFxH/O2v60pNUFiqeiSaIznWKVO6rNrAzkU4M4IulVwxuSrgA869xJ6kin2PL8EXbv7yt2KGZm48qnBvE+4FtJv4PILDf67kIGVcle6IfYxxsvml3kaMzMxpbPU0yPAZdImpZs7y94VBXsgjkt1NVU0eUEYWYlLp+BcvXAfwYWADVS5vn9iLi5oJFVqLqaKi5pb3FHtZmVvHz6IP4NuI7MILlDWS87SR3p6azZ3ktf/4taYdXM7LTKpw+iPSKuKXgkk0hHOsWXHwge39rLZQs976GZlaZ8ahC/keRVbk6h7I5qM7NSNWYNQtITZNaergH+JFkD4iiZJ5kiIi4+PSFWnulT6zhr5tRkRPWiYodjZpbTeE1MbzltUUxCS9Mpfv7ULiKC4Y5/M7NSMl4T04EJXhOSdI2kdZLWS/rYGMdcL2mtpDWSvptV/veSnkxeb8v3C5WLznSKfYf7eXaP+/vNrDSNV4NYRaaJKdeftwGcNd6FJVUDtwBXA1uBlZJWRMTarGMWAx8HroiIfZJmJeVvBpYCS4B64H5JP6mkMRjD/RBdm/ZxVltTkaMxMzvRmDWIiFgYEWclP0e/xk0OicuA9RGxMSKOAcvJPC6b7T3ALRGxL/nM3Un5y4BfRMRARBwCHgcq6kmqRW1NtDTW8og7qs2sRI2ZICSdl/xcmuuVx7XnAluytrcmZdnOAc6R9GtJD0kaTgKPAddImiJpJvAaYF6OGG8cnoa8u7s7j5BKR1WVWDq/lS4nCDMrUeM1MX0EuJHjV5QbFsBrT9HnLwauAtqBX0i6KCLukfRy4DdAN/AgcMKosoi4FbgVoLOzM05BPKdVRzrFfeu66Tl8jNYpdcUOx8zsOGMmiIi4Mfl5sivKbeP4v/rbk7JsW4GHI6IfeFbSM2QSxsqI+AzwGYCk8/qZk4yjZHWkM4PkHt3cw2vOm1XkaMzMjpfPinJvldScvP8bST+QdGke114JLJa0UFIdsAxYMeqYH5KpPZA0JZ0DbJRULWlGUn4xcDFwT35fqXxcMq+F6irR5RXmzKwE5TOS+m8j4kCyJsTrga8BX57opIgYAD4A3A08BdweEWsk3Szp2uSwu4G9ktYC9wEfjYi9QC3wy6T8VuCdyfUqypS6Gi6YM80jqs2sJOUzF9Nw2/+bgVsj4seS/ns+F4+Iu4C7RpV9Kut9kOnr+MioY/rIPMlU8ZbOT7F85Wb6B4eorc4nX5uZnR753JG2Sfpn4G3AXcn0376TnSId6RR9/UM8taNihniYWYXI50Z/PZmmoN+LiB5gOvDRQgY1mXQu8MR9ZlaaJkwQEXE4In4QEb9NtndERMV1GBfL7JZG5rQ0eDyEmZUcNxWVgKXplEdUm1nJcYIoAZ3pFDt6+9jWc6TYoZiZjXCCKAHDA+bcD2FmpcQJogScP7uZxtpqNzOZWUlxgigBNdVVLJnX6hHVZlZSnCBKREc6xVM7DnDoaMUNGDezMuUEUSI6FqQYHAoe29pT7FDMzAAniJKxdF4yYO4590OYWWlwgigRLVNqOeeMJlZtdoIws9LgBFFCOpIBc0NDZbf2kZlVICeIErJ0for9fQOs7z5Y7FDMzJwgSknnAg+YM7PS4QRRQhbMmMKMqXV0uaPazEqAE0QJkZSZuM8d1WZWApwgSkxHOsWzew6x5+DRYodiZpNcQROEpGskrZO0XtLHxjjmeklrJa2R9N2s8v+RlD0l6R8lqZCxloqOdGY8hOdlMrNiK1iCkFQN3AK8kcz60jdIetmoYxYDHweuiIgLgL9Myi8HrgAuBi4EXg78bqFiLSUXzW2htloeD2FmRVfIGsRlwPqI2BgRx4DlwHWjjnkPcEtE7AOIiN1JeQANQB1QD9QCuwoYa8loqK3mwrktHlFtZkVXyAQxF9iStb01Kct2DnCOpF9LekjSNQAR8SBwH7Ajed0dEU+N/gBJN0rqktTV3d1dkC9RDJ3pFI9v6+XowGCxQzGzSazYndQ1wGLgKuAG4CuSWiWdDZwPtJNJKq+V9OrRJ0fErRHRGRGdbW1tpzHswupIpzg2MMST2/YXOxQzm8QKmSC2AfOyttuTsmxbgRUR0R8RzwLPkEkYfwA8FBEHI+Ig8BPglQWMtaQsdUe1mZWAQiaIlcBiSQsl1QHLgBWjjvkhmdoDkmaSaXLaCGwGfldSjaRaMh3UJzQxVapZzQ3Mnz7FI6rNrKgKliAiYgD4AHA3mZv77RGxRtLNkq5NDrsb2CtpLZk+h49GxF7gDmAD8ATwGPBYRPzfQsVaijrSKbo27SPCE/eZWXHUFPLiEXEXcNeosk9lvQ/gI8kr+5hB4L2FjK3UdaRT3PnoNrY8f4T5M6YUOxwzm4SK3UltYxgeMOd1qs2sWJwgStQ5ZzTTXF/jfggzKxoniBJVXSWWzG91gjCzonGCKGEd6RTrdh1gf19/sUMxs0nICaKEdaanEwGrN/cUOxQzm4ScIErYJfNaqBJ0uZnJ7LTp6x/k39fu4pHN++g9Mrlr7wV9zNVemuaGWs49c5pHVJudBvv7+vn2Q5v4l189y56Dx0bK25rrWdQ2lbNnNbGorWnk5+yWBip9FQIniBLXmU7xg0e2MjgUVFdV9v+MZsWw5+BRvv7rZ/nWg5s40DfAlee08adXLGBgMNjQfZD1uw+yofsgK1ZvZ3/fwMh5U+qqsxLG1JH36RlTqaupjMYZJ4gS15FO8a8PbeLpnfu5YE5LscMxqxjbeo7wlV9sZPnKzRwdGOJNF87mz69axIVzX/h39nrOGHkfEew5eGwkYQz/fHjjXu589IVp5qqrRHr6FM7KSh5nz2pi0awmpjXUntbv+FI5QZS47BXmnCDMXrr1uw/wpfs38m+rMzf1P1w6l/f+7iIWtTWNe54k2prraWuu55WLZhy379DRAZ7dc+iE5PHAM7vpH3xhupxZzfUsamti0aypnN2WSRpnz2rizGml2VzlBFHi2lONzGqup2vTPt71ygXFDsesbD2+tYcv3reBu9fupL6mine9Ms17Xn0Wc1obX/K1p9bXcOHcluNqHwADg0Ns2XfkhMTxb6u3cyCruWpqXTWLjuvjyNQ65k8vbnOVE0SJk0RHOuUBc2YnISJ4cONevnT/Bn752z00N9TwgdeczbsvX8CMpvqCf35NdRULZ05l4cypXD2quar74NEkYRxiQ5I4HhqjuWp08jhdzVVOEGWgI53iJ0/uZNf+Ps6Y1lDscMxK3tBQ8POnd/PF+9fz6OYeZjbV87E3nsc7XjGf5hLoB5DErOYGZjU3cPmimcftO3h0gI3dWTWO3YdY332Q+57ezcDQ8c1Vw09UXdzewls7543+mJfMCaIMDPdDrNq0jzddNLvI0ZiVroHBIX70+A6+eP96ntl1kPZUI3/3ny7krR3tNNRWFzu8vDTV13BxeysXt7ceV94/OMTm5w+zYfdB1ne/kDh++Og21u064AQxWV0wp4X6mionCLMx9PUP8r1VW7n1FxvY8vwRzjmjic+/bQlvuXg2NdWV8chpbXVVpoO7rYk3ZJVHBIeOFWb9eieIMlBXU8Ul7Z64z2y0A339fOfhzXztV8/SfeAoS+a18qm3XMDrzptF1SQZNySJpvrC3MqdIMrE0nSKr/1qI339g2VTVTYrlL0Hj/KN3zzHN3/zHPv7Bnj14pl8YdkSXnnWjJJ8XLRcOUGUic50ii8/EDy+tZfLFk4vdjhmRbG95whf+eVGbvuPzfT1D3HNBWfyF69ZdEJ7vZ0aBU0Qkq4BvgBUA1+NiP8vxzHXAzcBQWbt6bdLeg3wuazDzgOWRcQPCxlvKVuatcKcE4RNNhu7D/LlBzZw56PbiIDrlszlz686i7NnNRc7tIpWsAQhqRq4Bbga2AqslLQiItZmHbMY+DhwRUTskzQLICLuA5Ykx0wH1gP3FCrWcjB9ah1ntU31xH02qTy5rZcv3r+enzy5k7rqKt5+2Xzec+VZtKe8TvvpUMgaxGXA+ojYCCBpOXAdsDbrmPcAt0TEPoCI2J3jOn8E/CQiDhcw1rLQMT/Fvz+1i4hwO6tVrIjgP559nlvu38Avnummub6GP//dRfzpqxYy8zQMbrMXFDJBzAW2ZG1vBV4x6phzACT9mkwz1E0R8dNRxywDPpvrAyTdCNwIMH/+/FMQcmnrSKf43qqtbNxzaMJ5Y061iODg0QF6DvfTe6SfnsP99Bw5xr7D/fQePpZsJ+WHj428P9DXz/SpdcxuaWBOayNzWxtH3g9vt06pdcIzIoJ7n97NF+/fwKpN+5jZVMdfX3Mu7/yddNlNclcpit1JXQMsBq4C2oFfSLooInoAJM0GLgLuznVyRNwK3ArQ2dkZuY6pJJ0LXhgwd7IJIiI4cHSA3sMv3ORHbuo5b/LHRhJC9ijO0Rprq2mdUkvrlDpaG2tZPKuJ1im1NNXX8Pyhfrb3HOHJbb3cs2YXxwaHjju3obYqZ/KY09LInNbMtp/cqlwDg0P8+IkdfOn+DTy98wBzWxu5+boLuL5znv+7F1khE8Q2IHtoX3tSlm0r8HBE9APPSnqGTMJYmey/Hrgz2T/pnTWziZbGWlY9t4+3drSzvy+50Sc3+X1ZN/MTbv5H+pNj+xkc50Y/pa6a1JQ6WhpraZ1Sy7lnNtPSWEdqSma7tbGOlim1tDbWkpqaSQbTGmvz/oc8NBTsPXSMHb1H2N5zhG09fezoOcL23sz7dTu72X3g6AnnzZhax+zWhiRpvJA4hhNJW3O918soM0cHBvn+qm18+YENbH7+MGfPauIf3noJ1y6ZQ22FDG4rd4VMECuBxZIWkkkMy4C3jzrmh8ANwNclzSTT5LQxa/8NZDqxDaiqUtLMtIU7kkWExtJUXzNyk2+dUsvslsaR97lu8i1TamlprKW+prB/sVVVvTBl8liPJh4dGGRX71G2J0lke88Rtvf2sb3nCM/tPcRvNuzl4NGB486pqRJntjQcV+uY3drI3KxE4maK0nDw6ADffXgTX/3ls+w+cJRL2lv45Js7uPr8MybN4LZyUbAEEREDkj5ApnmoGviXiFgj6WagKyJWJPveIGktMAh8NCL2AkhaQKYG8kChYixH73/N2cxtbRy5+bc01pKaUjdy829pzPz1X84rWtXXVDN/xhTmzxj7SZX9fZlmqx09fWxLksiO3sz7rk372Pn4jhOaxJrqa15IHi0vJI/M+0bObGko699bqdt36BhfTwa39R7p5/JFM/jc25Zw+SIPbitViqiMpvvOzs7o6uoqdhhWIgaHgj0Hj7ItSSKZ5qwXEsn2niPsPXTsuHMkaGuqH+kPyW7Gmpv8TLlDfVz9g0Ps2t838jve0TvchNjHr9fv4fCxQa5+2Rn8xVWLuHR+qtjhGiBpVUR05tpX7E5qs4KorhJnTGvITI8+xgNuff2DIzeybSO1kcPs6O3jqZ37+fnTu+jrH7tDPbs/ZDiBnNnSULEdq4NDQfeBTNPfjp6+pB8p83NHb+bn7gNHGf03Z3N9DbNbG3jTRbO58cqzOOcMD24rF04QNmk11FaPLOaSS0Sw73D/cbWPzCvTlHXvzt105+hQn9lUz9xU0oQ1kkReqJVMn1pXcrWQ4x8eyL7pZ2oAO3r72LW/74Rmu8ba6pGHB65c3Mbs1kbmtDSM/DyzpaEk1l+wk+MEYTYGSUyfWsf0qXUnLCU57OjAIDt7h/tB+kaSyLaeI6zbeYD7nu7mSP/xUzHX11SN1DhyNWPNPsW1kIig53D/8X/5Z934d/T2sbO374THj+tqqpjd0sDslgZesXA6s1sbmJ08BDC7JRNnS6Ob3CqZE4TZS1BfU016xlTSM8auhfQc7j++BpIklG37jnD/utyP9c5sqssaC5K5KbenXqiNzMiqhezv68/0s4xq+tm5/8hI+eimspqkCW5OawNL5rUy+6JMLWB4HMqZLQ3HfYZNTk4QZgUkidTUOlIT1EJ29R4dlUQy40LWdx/kgWdOrIXU1VQxq7mensP9JzzyWyWY1dzA7NYGzp89jdeeN+u4pp/ZLQ3MbPK4EZuYE4RZkU30WG9E0Huk/4RmrF37+2idUjfS5DOntYEzWxo5o7m+YlZRs+JygjArcZIyU5hMqeOCOblrIWaF4D8zzMwsJycIMzPLyQnCzMxycoIwM7OcnCDMzCwnJwgzM8vJCcLMzHJygjAzs5wqZj0ISd3AppdwiZnAnlMUTqGVU6xQXvGWU6xQXvGWU6xQXvG+lFjTEdGWa0fFJIiXSlLXWItmlJpyihXKK95yihXKK95yihXKK95CxeomJjMzy8kJwszMcnKCeMGtxQ7gRSinWKG84i2nWKG84i2nWKG84i1IrO6DMDOznFyDMDOznJwgzMwsp0mdICTNk3SfpLWS1kj6ULFjGo+kBkn/IemxJN5PFzumiUiqlvSopB8VO5aJSHpO0hOSVkvqKnY845HUKukOSU9LekrSK4sd01gknZv8Todf+yX9ZbHjGoukDyf/vp6UdJukhmLHNBZJH0riXFOI3+mk7oOQNBuYHRGPSGoGVgH/KSLWFjm0nJRZQX5qRByUVAv8CvhQRDxU5NDGJOkjQCcwLSLeUux4xiPpOaAzIkp+cJSkbwK/jIivSqoDpkRET5HDmpCkamAb8IqIeCkDWwtC0lwy/65eFhFHJN0O3BUR3yhuZCeSdCGwHLgMOAb8FHhfRKw/VZ8xqWsQEbEjIh5J3h8AngLmFjeqsUXGwWSzNnmVbIaX1A68GfhqsWOpJJJagCuBrwFExLFySA6J1wEbSjE5ZKkBGiXVAFOA7UWOZyznAw9HxOGIGAAeAP7wVH7ApE4Q2SQtAC4FHi5yKONKmmxWA7uBn0VEKcf7eeCvgaEix5GvAO6RtErSjcUOZhwLgW7g60nz3VclTS12UHlaBtxW7CDGEhHbgP8FbAZ2AL0RcU9xoxrTk8CrJc2QNAV4EzDvVH6AEwQgqQn4PvCXEbG/2PGMJyIGI2IJ0A5cllQzS46ktwC7I2JVsWN5EV4VEUuBNwLvl3RlsQMaQw2wFPhSRFwKHAI+VtyQJpY0hV0LfK/YsYxFUgq4jkwSngNMlfTO4kaVW0Q8Bfw9cA+Z5qXVwOCp/IxJnyCStvzvA9+JiB8UO558JU0K9wHXFDmUsVwBXJu06y8HXivp28UNaXzJX49ExG7gTjJtu6VoK7A1q/Z4B5mEUereCDwSEbuKHcg4Xg88GxHdEdEP/AC4vMgxjSkivhYRHRFxJbAPeOZUXn9SJ4ik0/drwFMR8dlixzMRSW2SWpP3jcDVwNNFDWoMEfHxiGiPiAVkmhXujYiS/EsMQNLU5EEFkuaaN5CpwpeciNgJbJF0blL0OqAkH6wY5QZKuHkpsRn4HUlTkvvD68j0TZYkSbOSn/PJ9D9891Rev+ZUXqwMXQG8C3giadcH+ERE3FW8kMY1G/hm8iRIFXB7RJT846Nl4gzgzsw9gRrguxHx0+KGNK4PAt9Jmm02An9S5HjGlSTdq4H3FjuW8UTEw5LuAB4BBoBHKe0pN74vaQbQD7z/VD+sMKkfczUzs7FN6iYmMzMbmxOEmZnl5ARhZmY5OUGYmVlOThBmZpaTE4RZAUlaIKkkx1OYTcQJwszMcnKCMDtNJJ2VTK738mLHYpaPyT6S2uy0SKbFWA68OyIeK3Y8ZvlwgjArvDbg34A/LNXFqMxycROTWeH1kpkE7lXFDsTsxXANwqzwjgF/ANwt6WBEnNIZN80KxQnC7DSIiEPJIko/S5LEimLHZDYRz+ZqZmY5uQ/CzMxycoIwM7OcnCDMzCwnJwgzM8vJCcLMzHJygjAzs5ycIMzMLKf/HyltwR0sh9lUAAAAAElFTkSuQmCC\n",
       "datasetInfos": [],
       "metadata": {},
       "removedWidgets": [],
       "type": "image"
      }
     },
     "output_type": "display_data"
    }
   ],
   "source": [
    "import matplotlib.pyplot as plt\n",
    "  \n",
    "plt.plot(range(2,10),silhouettes)\n",
    "plt.xlabel('k')\n",
    "plt.ylabel('silhouette score')\n",
    "plt.title('Silhouette Score')\n",
    "plt.show()"
   ]
  },
  {
   "cell_type": "code",
   "execution_count": 0,
   "metadata": {
    "application/vnd.databricks.v1+cell": {
     "cellMetadata": {
      "byteLimit": 2048000,
      "rowLimit": 10000
     },
     "inputWidgets": {},
     "nuid": "d3c43474-9d49-491c-8b97-b60b854612a2",
     "showTitle": false,
     "title": ""
    }
   },
   "outputs": [
    {
     "output_type": "stream",
     "name": "stdout",
     "output_type": "stream",
     "text": [
      "k = 3\n"
     ]
    }
   ],
   "source": [
    "print(\"k = 3\")"
   ]
  }
 ],
 "metadata": {
  "application/vnd.databricks.v1+notebook": {
   "dashboards": [],
   "language": "python",
   "notebookMetadata": {
    "pythonIndentUnit": 4
   },
   "notebookName": "spotify basic",
   "widgets": {}
  }
 },
 "nbformat": 4,
 "nbformat_minor": 0
}
