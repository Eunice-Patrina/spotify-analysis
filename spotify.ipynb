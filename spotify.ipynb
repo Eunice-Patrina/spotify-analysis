{
 "cells": [
  {
   "cell_type": "markdown",
   "metadata": {
    "application/vnd.databricks.v1+cell": {
     "cellMetadata": {
      "byteLimit": 2048000,
      "rowLimit": 10000
     },
     "inputWidgets": {},
     "nuid": "d4db11f9-fc0a-48f5-9e64-21cfefc483fd",
     "showTitle": false,
     "title": ""
    }
   },
   "source": [
    "## Initilize Spark"
   ]
  },
  {
   "cell_type": "code",
   "execution_count": 0,
   "metadata": {
    "application/vnd.databricks.v1+cell": {
     "cellMetadata": {
      "byteLimit": 2048000,
      "rowLimit": 10000
     },
     "inputWidgets": {},
     "nuid": "46e62b99-caf0-4e91-91b9-1dd59f5a5aac",
     "showTitle": false,
     "title": ""
    }
   },
   "outputs": [],
   "source": [
    "import pyspark"
   ]
  },
  {
   "cell_type": "markdown",
   "metadata": {
    "application/vnd.databricks.v1+cell": {
     "cellMetadata": {
      "byteLimit": 2048000,
      "rowLimit": 10000
     },
     "inputWidgets": {},
     "nuid": "ea62197c-7837-401b-ae2c-0f9644668b7b",
     "showTitle": false,
     "title": ""
    }
   },
   "source": [
    "## Load the data"
   ]
  },
  {
   "cell_type": "code",
   "execution_count": 0,
   "metadata": {
    "application/vnd.databricks.v1+cell": {
     "cellMetadata": {
      "byteLimit": 2048000,
      "rowLimit": 10000
     },
     "inputWidgets": {},
     "nuid": "2269b43b-ee76-4d5f-820f-f00563b74e64",
     "showTitle": false,
     "title": ""
    }
   },
   "outputs": [],
   "source": [
    "df = sqlContext.sql(\"SELECT * FROM  spotify_csv\")"
   ]
  },
  {
   "cell_type": "code",
   "execution_count": 0,
   "metadata": {
    "application/vnd.databricks.v1+cell": {
     "cellMetadata": {
      "byteLimit": 2048000,
      "rowLimit": 10000
     },
     "inputWidgets": {},
     "nuid": "50266a0c-b2ba-4f51-a41e-60c6c36f3718",
     "showTitle": false,
     "title": ""
    }
   },
   "outputs": [
    {
     "output_type": "stream",
     "name": "stdout",
     "output_type": "stream",
     "text": [
      "Out[122]: 32833"
     ]
    }
   ],
   "source": [
    "df.count()"
   ]
  },
  {
   "cell_type": "code",
   "execution_count": 0,
   "metadata": {
    "application/vnd.databricks.v1+cell": {
     "cellMetadata": {
      "byteLimit": 2048000,
      "rowLimit": 10000
     },
     "inputWidgets": {},
     "nuid": "e29e07fa-1530-4f2e-af39-31d27bc6576c",
     "showTitle": false,
     "title": ""
    }
   },
   "outputs": [],
   "source": [
    "from pyspark.sql.types import StringType"
   ]
  },
  {
   "cell_type": "code",
   "execution_count": 0,
   "metadata": {
    "application/vnd.databricks.v1+cell": {
     "cellMetadata": {
      "byteLimit": 2048000,
      "rowLimit": 10000
     },
     "inputWidgets": {},
     "nuid": "8166f81b-6b97-413a-b0db-c5bec302ffde",
     "showTitle": false,
     "title": ""
    }
   },
   "outputs": [
    {
     "output_type": "stream",
     "name": "stdout",
     "output_type": "stream",
     "text": [
      "Out[124]: pyspark.sql.types.StringType"
     ]
    }
   ],
   "source": [
    "type(df.schema[0].dataType)"
   ]
  },
  {
   "cell_type": "code",
   "execution_count": 0,
   "metadata": {
    "application/vnd.databricks.v1+cell": {
     "cellMetadata": {
      "byteLimit": 2048000,
      "rowLimit": 10000
     },
     "inputWidgets": {},
     "nuid": "3d8c4b20-7927-478b-8c47-6cea49a70038",
     "showTitle": false,
     "title": ""
    }
   },
   "outputs": [],
   "source": [
    "str_cols = []\n",
    "nstr_cols = []\n",
    "for i in df.schema:\n",
    "    if(isinstance(i.dataType, StringType)):\n",
    "        str_cols.append(i.name)\n",
    "    else:\n",
    "        nstr_cols.append(i.name)"
   ]
  },
  {
   "cell_type": "code",
   "execution_count": 0,
   "metadata": {
    "application/vnd.databricks.v1+cell": {
     "cellMetadata": {
      "byteLimit": 2048000,
      "rowLimit": 10000
     },
     "inputWidgets": {},
     "nuid": "61b98b16-b43d-4827-b72e-3659296053e5",
     "showTitle": false,
     "title": ""
    }
   },
   "outputs": [
    {
     "output_type": "stream",
     "name": "stdout",
     "output_type": "stream",
     "text": [
      "Out[126]: ['track_id',\n 'track_name',\n 'track_artist',\n 'track_album_id',\n 'track_album_name',\n 'playlist_name',\n 'playlist_id',\n 'playlist_genre',\n 'playlist_subgenre']"
     ]
    }
   ],
   "source": [
    "str_cols"
   ]
  },
  {
   "cell_type": "code",
   "execution_count": 0,
   "metadata": {
    "application/vnd.databricks.v1+cell": {
     "cellMetadata": {
      "byteLimit": 2048000,
      "rowLimit": 10000
     },
     "inputWidgets": {},
     "nuid": "d8ecc6f6-5640-427b-a32b-cf3758ccdc79",
     "showTitle": false,
     "title": ""
    }
   },
   "outputs": [],
   "source": [
    "str_cols = ['track_id',\n",
    " 'track_artist',\n",
    " 'track_album_id',\n",
    " 'playlist_id',\n",
    " 'playlist_genre',\n",
    " 'playlist_subgenre']"
   ]
  },
  {
   "cell_type": "code",
   "execution_count": 0,
   "metadata": {
    "application/vnd.databricks.v1+cell": {
     "cellMetadata": {
      "byteLimit": 2048000,
      "rowLimit": 10000
     },
     "inputWidgets": {},
     "nuid": "7b5c42b0-abb5-4bec-a52c-95dcd3d5377b",
     "showTitle": false,
     "title": ""
    }
   },
   "outputs": [],
   "source": [
    "from pyspark.ml.feature import StringIndexer, OneHotEncoder, VectorAssembler"
   ]
  },
  {
   "cell_type": "markdown",
   "metadata": {
    "application/vnd.databricks.v1+cell": {
     "cellMetadata": {
      "byteLimit": 2048000,
      "rowLimit": 10000
     },
     "inputWidgets": {},
     "nuid": "32a6e528-5adb-4a58-882d-376abcb8ad17",
     "showTitle": false,
     "title": ""
    }
   },
   "source": [
    "indexer = StringIndexer(inputCol='satisfaction', outputCol='label')\n",
    "index = indexer.fit(df)\n",
    "df = index.transform(df)"
   ]
  },
  {
   "cell_type": "code",
   "execution_count": 0,
   "metadata": {
    "application/vnd.databricks.v1+cell": {
     "cellMetadata": {
      "byteLimit": 2048000,
      "rowLimit": 10000
     },
     "inputWidgets": {},
     "nuid": "d0f2dd27-908b-4efe-b55e-ada29a4cde72",
     "showTitle": false,
     "title": ""
    }
   },
   "outputs": [
    {
     "output_type": "stream",
     "name": "stdout",
     "output_type": "stream",
     "text": [
      "track_id\ntrack_artist\ntrack_album_id\nplaylist_id\nplaylist_genre\nplaylist_subgenre\n"
     ]
    }
   ],
   "source": [
    "for col in str_cols:\n",
    "    print(col)"
   ]
  },
  {
   "cell_type": "code",
   "execution_count": 0,
   "metadata": {
    "application/vnd.databricks.v1+cell": {
     "cellMetadata": {
      "byteLimit": 2048000,
      "rowLimit": 10000
     },
     "inputWidgets": {},
     "nuid": "b6fc1faa-57e1-432d-84f5-7deeadb3bb01",
     "showTitle": false,
     "title": ""
    }
   },
   "outputs": [],
   "source": [
    "ohe = []\n",
    "indexer = []\n",
    "encoder = []\n",
    "final_data = df\n",
    "for col in str_cols:\n",
    "    output_ind = col + \"Ind\"\n",
    "    indexer = StringIndexer(inputCol=col, outputCol=output_ind)\n",
    "    final_data = indexer.fit(final_data).transform(final_data)\n",
    "\n",
    "    output_vect = col + \"Vec\"\n",
    "    encoder = OneHotEncoder(inputCol=output_ind, outputCol=output_vect)\n",
    "    final_data = encoder.fit(final_data).transform(final_data)\n",
    "    \n"
   ]
  },
  {
   "cell_type": "code",
   "execution_count": 0,
   "metadata": {
    "application/vnd.databricks.v1+cell": {
     "cellMetadata": {
      "byteLimit": 2048000,
      "rowLimit": 10000
     },
     "inputWidgets": {},
     "nuid": "77d29a62-923b-488f-be21-3fc6b8577301",
     "showTitle": false,
     "title": ""
    }
   },
   "outputs": [
    {
     "output_type": "stream",
     "name": "stdout",
     "output_type": "stream",
     "text": [
      "Out[131]: ['track_id',\n 'track_name',\n 'track_artist',\n 'track_popularity',\n 'track_album_id',\n 'track_album_name',\n 'track_album_release_date',\n 'playlist_name',\n 'playlist_id',\n 'playlist_genre',\n 'playlist_subgenre',\n 'danceability',\n 'energy',\n 'key',\n 'loudness',\n 'mode',\n 'speechiness',\n 'acousticness',\n 'instrumentalness',\n 'liveness',\n 'valence',\n 'tempo',\n 'duration_ms',\n 'track_idInd',\n 'track_idVec',\n 'track_artistInd',\n 'track_artistVec',\n 'track_album_idInd',\n 'track_album_idVec',\n 'playlist_idInd',\n 'playlist_idVec',\n 'playlist_genreInd',\n 'playlist_genreVec',\n 'playlist_subgenreInd',\n 'playlist_subgenreVec']"
     ]
    }
   ],
   "source": [
    "final_data.columns"
   ]
  },
  {
   "cell_type": "markdown",
   "metadata": {
    "application/vnd.databricks.v1+cell": {
     "cellMetadata": {},
     "inputWidgets": {},
     "nuid": "7785ba06-11c3-4ed8-ab14-69b46c26c2c0",
     "showTitle": false,
     "title": ""
    }
   },
   "source": [
    "## Create Feature Vector"
   ]
  },
  {
   "cell_type": "code",
   "execution_count": 0,
   "metadata": {
    "application/vnd.databricks.v1+cell": {
     "cellMetadata": {
      "byteLimit": 2048000,
      "rowLimit": 10000
     },
     "inputWidgets": {},
     "nuid": "dbbfaaed-2176-45d9-8f61-76ebe6eac3f1",
     "showTitle": false,
     "title": ""
    }
   },
   "outputs": [],
   "source": [
    "col = [ 'danceability',\n",
    " 'energy',\n",
    " 'key',\n",
    " 'loudness',\n",
    " 'mode',\n",
    " 'speechiness',\n",
    " 'acousticness',\n",
    " 'instrumentalness',\n",
    " 'liveness',\n",
    " 'valence',\n",
    " 'tempo',\n",
    " 'duration_ms',\n",
    " 'track_idVec',\n",
    " 'track_artistVec',\n",
    " 'track_album_idVec',\n",
    " 'playlist_idVec',\n",
    " 'playlist_genreVec',\n",
    " 'playlist_subgenreVec']\n",
    "\n",
    "assembler = VectorAssembler(inputCols=col, outputCol=\"features\")"
   ]
  },
  {
   "cell_type": "code",
   "execution_count": 0,
   "metadata": {
    "application/vnd.databricks.v1+cell": {
     "cellMetadata": {
      "byteLimit": 2048000,
      "rowLimit": 10000
     },
     "inputWidgets": {},
     "nuid": "26856e10-2229-4dd5-9a6a-d66cb727ffe4",
     "showTitle": false,
     "title": ""
    }
   },
   "outputs": [],
   "source": [
    "final_data  = assembler.transform(final_data)"
   ]
  },
  {
   "cell_type": "markdown",
   "metadata": {
    "application/vnd.databricks.v1+cell": {
     "cellMetadata": {},
     "inputWidgets": {},
     "nuid": "edd543c0-a4e1-4cc1-bad5-6301cbd51bb0",
     "showTitle": false,
     "title": ""
    }
   },
   "source": [
    "## StandardScaler"
   ]
  },
  {
   "cell_type": "code",
   "execution_count": 0,
   "metadata": {
    "application/vnd.databricks.v1+cell": {
     "cellMetadata": {
      "byteLimit": 2048000,
      "rowLimit": 10000
     },
     "inputWidgets": {},
     "nuid": "32e350d6-0daf-48cc-81ee-f35195bb58a0",
     "showTitle": false,
     "title": ""
    }
   },
   "outputs": [],
   "source": [
    "from pyspark.ml.feature import StandardScaler"
   ]
  },
  {
   "cell_type": "code",
   "execution_count": 0,
   "metadata": {
    "application/vnd.databricks.v1+cell": {
     "cellMetadata": {
      "byteLimit": 2048000,
      "rowLimit": 10000
     },
     "inputWidgets": {},
     "nuid": "dcc74c68-db66-4d20-accd-131e4fcc0ea0",
     "showTitle": false,
     "title": ""
    }
   },
   "outputs": [],
   "source": [
    "scaler = StandardScaler(inputCol=\"features\", outputCol=\"scaledFeatures\")"
   ]
  },
  {
   "cell_type": "code",
   "execution_count": 0,
   "metadata": {
    "application/vnd.databricks.v1+cell": {
     "cellMetadata": {
      "byteLimit": 2048000,
      "rowLimit": 10000
     },
     "inputWidgets": {},
     "nuid": "20609010-fa2d-4014-8b32-61bfbb92f16e",
     "showTitle": false,
     "title": ""
    }
   },
   "outputs": [],
   "source": [
    "scaler_model = scaler.fit(final_data)"
   ]
  },
  {
   "cell_type": "code",
   "execution_count": 0,
   "metadata": {
    "application/vnd.databricks.v1+cell": {
     "cellMetadata": {
      "byteLimit": 2048000,
      "rowLimit": 10000
     },
     "inputWidgets": {},
     "nuid": "a5f735bc-3fa1-44ec-b0cc-31ffddf07170",
     "showTitle": false,
     "title": ""
    }
   },
   "outputs": [],
   "source": [
    "final_data = scaler_model.transform(final_data)"
   ]
  },
  {
   "cell_type": "markdown",
   "metadata": {
    "application/vnd.databricks.v1+cell": {
     "cellMetadata": {
      "byteLimit": 2048000,
      "rowLimit": 10000
     },
     "inputWidgets": {},
     "nuid": "72b14979-d579-4f0e-a3e6-5283be97a9fe",
     "showTitle": false,
     "title": ""
    }
   },
   "source": [
    "# K means"
   ]
  },
  {
   "cell_type": "code",
   "execution_count": 0,
   "metadata": {
    "application/vnd.databricks.v1+cell": {
     "cellMetadata": {
      "byteLimit": 2048000,
      "rowLimit": 10000
     },
     "inputWidgets": {},
     "nuid": "b4ad5344-0cc7-4784-97ac-4c24411ac00f",
     "showTitle": false,
     "title": ""
    }
   },
   "outputs": [],
   "source": [
    "from pyspark.ml.clustering import KMeans"
   ]
  },
  {
   "cell_type": "code",
   "execution_count": 0,
   "metadata": {
    "application/vnd.databricks.v1+cell": {
     "cellMetadata": {
      "byteLimit": 2048000,
      "rowLimit": 10000
     },
     "inputWidgets": {},
     "nuid": "e254bd59-326c-41eb-b73a-945fabc18480",
     "showTitle": false,
     "title": ""
    }
   },
   "outputs": [],
   "source": [
    "from pyspark.ml.evaluation import ClusteringEvaluator"
   ]
  },
  {
   "cell_type": "code",
   "execution_count": 0,
   "metadata": {
    "application/vnd.databricks.v1+cell": {
     "cellMetadata": {
      "byteLimit": 2048000,
      "rowLimit": 10000
     },
     "inputWidgets": {},
     "nuid": "3c262e1b-e0a1-4133-a2a7-6b1bfbe429e2",
     "showTitle": false,
     "title": ""
    }
   },
   "outputs": [],
   "source": [
    "\n",
    "evaluator = ClusteringEvaluator()\n"
   ]
  },
  {
   "cell_type": "code",
   "execution_count": 0,
   "metadata": {
    "application/vnd.databricks.v1+cell": {
     "cellMetadata": {
      "byteLimit": 2048000,
      "rowLimit": 10000
     },
     "inputWidgets": {},
     "nuid": "4e19415d-35fd-435c-ad51-27738522a5bd",
     "showTitle": false,
     "title": ""
    }
   },
   "outputs": [],
   "source": [
    "silhouettes = []\n",
    "for i in range(2, 8):\n",
    "    kmeans = KMeans(featuresCol='features', k=i)\n",
    "    model = kmeans.fit(final_data)\n",
    "    prediction = model.transform(final_data)\n",
    "    silhouette = evaluator.evaluate(prediction)\n",
    "    silhouettes.append(silhouette)"
   ]
  },
  {
   "cell_type": "code",
   "execution_count": 0,
   "metadata": {
    "application/vnd.databricks.v1+cell": {
     "cellMetadata": {
      "byteLimit": 2048000,
      "rowLimit": 10000
     },
     "inputWidgets": {},
     "nuid": "bdcb6491-d8cc-4a2c-90ae-4e328babac55",
     "showTitle": false,
     "title": ""
    }
   },
   "outputs": [
    {
     "output_type": "display_data",
     "data": {
      "image/png": "[encoded data removed]"
     },
     "metadata": {
      "application/vnd.databricks.v1+output": {
       "addedWidgets": {},
       "arguments": {},
       "data": "data:image/png;base64,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\n",
       "datasetInfos": [],
       "metadata": {},
       "removedWidgets": [],
       "type": "image"
      }
     },
     "output_type": "display_data"
    }
   ],
   "source": [
    "import matplotlib.pyplot as plt\n",
    "  \n",
    "plt.plot(range(2,8),silhouettes)\n",
    "plt.xlabel('k')\n",
    "plt.ylabel('silhouette score')\n",
    "plt.title('Silhouette Score')\n",
    "plt.show()"
   ]
  },
  {
   "cell_type": "code",
   "execution_count": 0,
   "metadata": {
    "application/vnd.databricks.v1+cell": {
     "cellMetadata": {
      "byteLimit": 2048000,
      "rowLimit": 10000
     },
     "inputWidgets": {},
     "nuid": "d3c43474-9d49-491c-8b97-b60b854612a2",
     "showTitle": false,
     "title": ""
    }
   },
   "outputs": [
    {
     "output_type": "stream",
     "name": "stdout",
     "output_type": "stream",
     "text": [
      "k=3\n"
     ]
    }
   ],
   "source": [
    "print(\"k=3\")"
   ]
  },
  {
   "cell_type": "code",
   "execution_count": 0,
   "metadata": {
    "application/vnd.databricks.v1+cell": {
     "cellMetadata": {},
     "inputWidgets": {},
     "nuid": "8e3e0202-fb83-4a6b-83be-6d5bdc0a2445",
     "showTitle": false,
     "title": ""
    }
   },
   "outputs": [],
   "source": []
  }
 ],
 "metadata": {
  "application/vnd.databricks.v1+notebook": {
   "dashboards": [],
   "language": "python",
   "notebookMetadata": {
    "pythonIndentUnit": 4
   },
   "notebookName": "spotify",
   "widgets": {}
  }
 },
 "nbformat": 4,
 "nbformat_minor": 0
}
